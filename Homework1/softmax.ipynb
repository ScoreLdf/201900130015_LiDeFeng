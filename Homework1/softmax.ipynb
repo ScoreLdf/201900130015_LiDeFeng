{
 "cells": [
  {
   "cell_type": "markdown",
   "source": [
    "# Softmax exercise\n",
    "\n",
    "*Complete and hand in this completed worksheet (including its outputs and any supporting code outside of the worksheet) with your assignment submission. \n",
    "This exercise is analogous to the SVM exercise. You will:\n",
    "\n",
    "- implement a fully-vectorized **loss function** for the Softmax classifier\n",
    "- implement the fully-vectorized expression for its **analytic gradient**\n",
    "- **check your implementation** with numerical gradient\n",
    "- use a validation set to **tune the learning rate and regularization** strength\n",
    "- **optimize** the loss function with **SGD**\n",
    "- **visualize** the final learned weights\n"
   ],
   "metadata": {
    "tags": [
     "pdf-title"
    ]
   }
  },
  {
   "cell_type": "code",
   "execution_count": 1,
   "source": [
    "import random\r\n",
    "import numpy as np\r\n",
    "from sducs2019.data_utils import load_CIFAR10\r\n",
    "import matplotlib.pyplot as plt\r\n",
    "\r\n",
    "%matplotlib inline\r\n",
    "plt.rcParams['figure.figsize'] = (10.0, 8.0) # set default size of plots\r\n",
    "plt.rcParams['image.interpolation'] = 'nearest'\r\n",
    "plt.rcParams['image.cmap'] = 'gray'\r\n",
    "\r\n",
    "# for auto-reloading extenrnal modules\r\n",
    "# see http://stackoverflow.com/questions/1907993/autoreload-of-modules-in-ipython\r\n",
    "%load_ext autoreload\r\n",
    "%autoreload 2"
   ],
   "outputs": [],
   "metadata": {
    "tags": [
     "pdf-ignore"
    ]
   }
  },
  {
   "cell_type": "code",
   "execution_count": 2,
   "source": [
    "def get_CIFAR10_data(num_training=49000, num_validation=1000, num_test=1000, num_dev=500):\r\n",
    "    \"\"\"\r\n",
    "    Load the CIFAR-10 dataset from disk and perform preprocessing to prepare\r\n",
    "    it for the linear classifier. These are the same steps as we used for the\r\n",
    "    SVM, but condensed to a single function.  \r\n",
    "    \"\"\"\r\n",
    "    # Load the raw CIFAR-10 data\r\n",
    "    cifar10_dir = 'sducs2019/datasets/cifar-10-batches-py'\r\n",
    "    \r\n",
    "    # Cleaning up variables to prevent loading data multiple times (which may cause memory issue)\r\n",
    "    try:\r\n",
    "       del X_train, y_train\r\n",
    "       del X_test, y_test\r\n",
    "       print('Clear previously loaded data.')\r\n",
    "    except:\r\n",
    "       pass\r\n",
    "\r\n",
    "    X_train, y_train, X_test, y_test = load_CIFAR10(cifar10_dir)\r\n",
    "    \r\n",
    "    # subsample the data\r\n",
    "    mask = list(range(num_training, num_training + num_validation))\r\n",
    "    X_val = X_train[mask]\r\n",
    "    y_val = y_train[mask]\r\n",
    "    mask = list(range(num_training))\r\n",
    "    X_train = X_train[mask]\r\n",
    "    y_train = y_train[mask]\r\n",
    "    mask = list(range(num_test))\r\n",
    "    X_test = X_test[mask]\r\n",
    "    y_test = y_test[mask]\r\n",
    "    mask = np.random.choice(num_training, num_dev, replace=False)\r\n",
    "    X_dev = X_train[mask]\r\n",
    "    y_dev = y_train[mask]\r\n",
    "    \r\n",
    "    # Preprocessing: reshape the image data into rows\r\n",
    "    X_train = np.reshape(X_train, (X_train.shape[0], -1))\r\n",
    "    X_val = np.reshape(X_val, (X_val.shape[0], -1))\r\n",
    "    X_test = np.reshape(X_test, (X_test.shape[0], -1))\r\n",
    "    X_dev = np.reshape(X_dev, (X_dev.shape[0], -1))\r\n",
    "    \r\n",
    "    # Normalize the data: subtract the mean image\r\n",
    "    mean_image = np.mean(X_train, axis = 0)\r\n",
    "    X_train -= mean_image\r\n",
    "    X_val -= mean_image\r\n",
    "    X_test -= mean_image\r\n",
    "    X_dev -= mean_image\r\n",
    "    \r\n",
    "    # add bias dimension and transform into columns\r\n",
    "    X_train = np.hstack([X_train, np.ones((X_train.shape[0], 1))])\r\n",
    "    X_val = np.hstack([X_val, np.ones((X_val.shape[0], 1))])\r\n",
    "    X_test = np.hstack([X_test, np.ones((X_test.shape[0], 1))])\r\n",
    "    X_dev = np.hstack([X_dev, np.ones((X_dev.shape[0], 1))])\r\n",
    "    \r\n",
    "    return X_train, y_train, X_val, y_val, X_test, y_test, X_dev, y_dev\r\n",
    "\r\n",
    "\r\n",
    "# Invoke the above function to get our data.\r\n",
    "X_train, y_train, X_val, y_val, X_test, y_test, X_dev, y_dev = get_CIFAR10_data()\r\n",
    "print('Train data shape: ', X_train.shape)\r\n",
    "print('Train labels shape: ', y_train.shape)\r\n",
    "print('Validation data shape: ', X_val.shape)\r\n",
    "print('Validation labels shape: ', y_val.shape)\r\n",
    "print('Test data shape: ', X_test.shape)\r\n",
    "print('Test labels shape: ', y_test.shape)\r\n",
    "print('dev data shape: ', X_dev.shape)\r\n",
    "print('dev labels shape: ', y_dev.shape)"
   ],
   "outputs": [
    {
     "output_type": "stream",
     "name": "stdout",
     "text": [
      "Train data shape:  (49000, 3073)\n",
      "Train labels shape:  (49000,)\n",
      "Validation data shape:  (1000, 3073)\n",
      "Validation labels shape:  (1000,)\n",
      "Test data shape:  (1000, 3073)\n",
      "Test labels shape:  (1000,)\n",
      "dev data shape:  (500, 3073)\n",
      "dev labels shape:  (500,)\n"
     ]
    }
   ],
   "metadata": {
    "tags": [
     "pdf-ignore"
    ]
   }
  },
  {
   "cell_type": "markdown",
   "source": [
    "## Softmax Classifier\n",
    "\n",
    "Your code for this section will all be written inside **sducs2019/classifiers/softmax.py**. \n"
   ],
   "metadata": {}
  },
  {
   "cell_type": "code",
   "execution_count": 3,
   "source": [
    "# First implement the naive softmax loss function with nested loops.\r\n",
    "# Open the file sducs2019/classifiers/softmax.py and implement the\r\n",
    "# softmax_loss_naive function.\r\n",
    "\r\n",
    "from sducs2019.classifiers.softmax import softmax_loss_naive\r\n",
    "import time\r\n",
    "\r\n",
    "# Generate a random softmax weight matrix and use it to compute the loss.\r\n",
    "W = np.random.randn(3073, 10) * 0.0001\r\n",
    "loss, grad = softmax_loss_naive(W, X_dev, y_dev, 0.0)\r\n",
    "\r\n",
    "# As a rough sanity check, our loss should be something close to -log(0.1).\r\n",
    "print('loss: %f' % loss)\r\n",
    "print('sanity check: %f' % (-np.log(0.1)))"
   ],
   "outputs": [
    {
     "output_type": "stream",
     "name": "stdout",
     "text": [
      "loss: 2.381367\n",
      "sanity check: 2.302585\n"
     ]
    }
   ],
   "metadata": {}
  },
  {
   "cell_type": "markdown",
   "source": [
    "**Inline Question 1**\r\n",
    "\r\n",
    "Why do we expect our loss to be close to -log(0.1)? Explain briefly.**\r\n",
    "\r\n",
    "$\\color{blue}{\\textit Your Answer:}$ \r\n",
    "权重随机生成，分类正确率0.1，十分类问题交叉熵-log(0.1)\r\n",
    "\r\n"
   ],
   "metadata": {
    "tags": [
     "pdf-inline"
    ]
   }
  },
  {
   "cell_type": "code",
   "execution_count": 4,
   "source": [
    "# Complete the implementation of softmax_loss_naive and implement a (naive)\r\n",
    "# version of the gradient that uses nested loops.\r\n",
    "loss, grad = softmax_loss_naive(W, X_dev, y_dev, 0.0)\r\n",
    "\r\n",
    "# As we did for the SVM, use numeric gradient checking as a debugging tool.\r\n",
    "# The numeric gradient should be close to the analytic gradient.\r\n",
    "from sducs2019.gradient_check import grad_check_sparse\r\n",
    "f = lambda w: softmax_loss_naive(w, X_dev, y_dev, 0.0)[0]\r\n",
    "grad_numerical = grad_check_sparse(f, W, grad, 10)\r\n",
    "\r\n",
    "# similar to SVM case, do another gradient check with regularization\r\n",
    "loss, grad = softmax_loss_naive(W, X_dev, y_dev, 5e1)\r\n",
    "f = lambda w: softmax_loss_naive(w, X_dev, y_dev, 5e1)[0]\r\n",
    "grad_numerical = grad_check_sparse(f, W, grad, 10)"
   ],
   "outputs": [
    {
     "output_type": "stream",
     "name": "stdout",
     "text": [
      "numerical: 3.582930 analytic: 3.582930, relative error: 2.076834e-08\n",
      "numerical: 0.719646 analytic: 0.719646, relative error: 1.338457e-08\n",
      "numerical: -0.903025 analytic: -0.903025, relative error: 1.435617e-09\n",
      "numerical: 2.130628 analytic: 2.130628, relative error: 1.579139e-08\n",
      "numerical: 0.709841 analytic: 0.709841, relative error: 6.023038e-08\n",
      "numerical: 3.954992 analytic: 3.954992, relative error: 1.841701e-09\n",
      "numerical: -1.340925 analytic: -1.340925, relative error: 6.919073e-09\n",
      "numerical: -1.109027 analytic: -1.109027, relative error: 1.685661e-09\n",
      "numerical: -0.058569 analytic: -0.058569, relative error: 9.874529e-08\n",
      "numerical: 2.979396 analytic: 2.979396, relative error: 1.915058e-08\n",
      "numerical: 0.137533 analytic: 0.137533, relative error: 3.235650e-07\n",
      "numerical: -1.548094 analytic: -1.548094, relative error: 5.384705e-09\n",
      "numerical: 1.571033 analytic: 1.571033, relative error: 1.689126e-08\n",
      "numerical: -2.546344 analytic: -2.546344, relative error: 2.606979e-08\n",
      "numerical: 2.638626 analytic: 2.638626, relative error: 1.984365e-08\n",
      "numerical: -1.137679 analytic: -1.137679, relative error: 2.951422e-08\n",
      "numerical: 0.219070 analytic: 0.219070, relative error: 3.201089e-07\n",
      "numerical: 0.477099 analytic: 0.477099, relative error: 3.095061e-08\n",
      "numerical: -0.350015 analytic: -0.350016, relative error: 1.429220e-07\n",
      "numerical: 2.110961 analytic: 2.110960, relative error: 1.426581e-08\n"
     ]
    }
   ],
   "metadata": {}
  },
  {
   "cell_type": "code",
   "execution_count": 6,
   "source": [
    "# Now that we have a naive implementation of the softmax loss function and its gradient,\r\n",
    "# implement a vectorized version in softmax_loss_vectorized.\r\n",
    "# The two versions should compute the same results, but the vectorized version should be\r\n",
    "# much faster.\r\n",
    "tic = time.time()\r\n",
    "loss_naive, grad_naive = softmax_loss_naive(W, X_dev, y_dev, 0.000005)\r\n",
    "toc = time.time()\r\n",
    "print('naive loss: %e computed in %fs' % (loss_naive, toc - tic))\r\n",
    "\r\n",
    "from sducs2019.classifiers.softmax import softmax_loss_vectorized\r\n",
    "tic = time.time()\r\n",
    "loss_vectorized, grad_vectorized = softmax_loss_vectorized(W, X_dev, y_dev, 0.000005)\r\n",
    "toc = time.time()\r\n",
    "print('vectorized loss: %e computed in %fs' % (loss_vectorized, toc - tic))\r\n",
    "\r\n",
    "# As we did for the SVM, we use the Frobenius norm to compare the two versions\r\n",
    "# of the gradient.\r\n",
    "grad_difference = np.linalg.norm(grad_naive - grad_vectorized, ord='fro')\r\n",
    "print('Loss difference: %f' % np.abs(loss_naive - loss_vectorized))\r\n",
    "print('Gradient difference: %f' % grad_difference)"
   ],
   "outputs": [
    {
     "output_type": "stream",
     "name": "stdout",
     "text": [
      "naive loss: 2.381367e+00 computed in 0.115716s\n",
      "vectorized loss: 2.381367e+00 computed in 0.003965s\n",
      "Loss difference: 0.000000\n",
      "Gradient difference: 0.000000\n"
     ]
    }
   ],
   "metadata": {}
  },
  {
   "cell_type": "code",
   "execution_count": 7,
   "source": [
    "# Use the validation set to tune hyperparameters (regularization strength and\r\n",
    "# learning rate). You should experiment with different ranges for the learning\r\n",
    "# rates and regularization strengths; if you are careful you should be able to\r\n",
    "# get a classification accuracy of over 0.35 on the validation set.\r\n",
    "from sducs2019.classifiers import Softmax\r\n",
    "results = {}\r\n",
    "best_val = -1\r\n",
    "best_softmax = None\r\n",
    "learning_rates = [1e-7, 5e-7]\r\n",
    "regularization_strengths = [2.5e4, 5e4]\r\n",
    "\r\n",
    "################################################################################\r\n",
    "# TODO:                                                                        #\r\n",
    "# Use the validation set to set the learning rate and regularization strength. #\r\n",
    "# This should be identical to the validation that you did for the SVM; save    #\r\n",
    "# the best trained softmax classifer in best_softmax.                          #\r\n",
    "################################################################################\r\n",
    "# *****START OF YOUR CODE (DO NOT DELETE/MODIFY THIS LINE)*****\r\n",
    "\r\n",
    "pass\r\n",
    "from sducs2019.classifiers.linear_classifier import Softmax\r\n",
    "\r\n",
    "for lr in learning_rates:\r\n",
    "    for rs in regularization_strengths:\r\n",
    "        softmax = Softmax()\r\n",
    "        softmax.train(X_train, y_train, learning_rate = lr, reg=rs, num_iters = 1500,\r\n",
    "                     verbose = True)\r\n",
    "        \r\n",
    "        y_pred_train = softmax.predict(X_train)\r\n",
    "        acc_train = np.mean(y_pred_train == y_train)\r\n",
    "        \r\n",
    "        y_pred_val = softmax.predict(X_val)\r\n",
    "        acc_val = np.mean(y_pred_val == y_val)\r\n",
    "        results[(lr, rs)] = (acc_train, acc_val)\r\n",
    "        \r\n",
    "        if acc_val > best_val:\r\n",
    "            best_val = acc_val\r\n",
    "            best_softmax = softmax\r\n",
    "# *****END OF YOUR CODE (DO NOT DELETE/MODIFY THIS LINE)*****\r\n",
    "    \r\n",
    "# Print out results.\r\n",
    "for lr, reg in sorted(results):\r\n",
    "    train_accuracy, val_accuracy = results[(lr, reg)]\r\n",
    "    print('lr %e reg %e train accuracy: %f val accuracy: %f' % (\r\n",
    "                lr, reg, train_accuracy, val_accuracy))\r\n",
    "    \r\n",
    "print('best validation accuracy achieved during cross-validation: %f' % best_val)"
   ],
   "outputs": [
    {
     "output_type": "stream",
     "name": "stdout",
     "text": [
      "iteration 0 / 1500: loss 385.369661\n",
      "iteration 100 / 1500: loss 233.420443\n",
      "iteration 200 / 1500: loss 141.971726\n",
      "iteration 300 / 1500: loss 86.543686\n",
      "iteration 400 / 1500: loss 53.264814\n",
      "iteration 500 / 1500: loss 32.952235\n",
      "iteration 600 / 1500: loss 20.761701\n",
      "iteration 700 / 1500: loss 13.338859\n",
      "iteration 800 / 1500: loss 8.899902\n",
      "iteration 900 / 1500: loss 6.150791\n",
      "iteration 1000 / 1500: loss 4.520552\n",
      "iteration 1100 / 1500: loss 3.556674\n",
      "iteration 1200 / 1500: loss 2.902305\n",
      "iteration 1300 / 1500: loss 2.591129\n",
      "iteration 1400 / 1500: loss 2.273113\n",
      "iteration 0 / 1500: loss 772.425408\n",
      "iteration 100 / 1500: loss 283.583474\n",
      "iteration 200 / 1500: loss 105.128113\n",
      "iteration 300 / 1500: loss 39.801428\n",
      "iteration 400 / 1500: loss 15.960580\n",
      "iteration 500 / 1500: loss 7.183012\n",
      "iteration 600 / 1500: loss 3.885348\n",
      "iteration 700 / 1500: loss 2.674671\n",
      "iteration 800 / 1500: loss 2.354941\n",
      "iteration 900 / 1500: loss 2.200213\n",
      "iteration 1000 / 1500: loss 2.118771\n",
      "iteration 1100 / 1500: loss 2.091177\n",
      "iteration 1200 / 1500: loss 2.109373\n",
      "iteration 1300 / 1500: loss 2.072706\n",
      "iteration 1400 / 1500: loss 2.054758\n",
      "iteration 0 / 1500: loss 394.963202\n",
      "iteration 100 / 1500: loss 33.212112\n",
      "iteration 200 / 1500: loss 4.553236\n",
      "iteration 300 / 1500: loss 2.308602\n",
      "iteration 400 / 1500: loss 2.039865\n",
      "iteration 500 / 1500: loss 2.115404\n",
      "iteration 600 / 1500: loss 1.979760\n",
      "iteration 700 / 1500: loss 2.064501\n",
      "iteration 800 / 1500: loss 2.029077\n",
      "iteration 900 / 1500: loss 2.053871\n",
      "iteration 1000 / 1500: loss 2.047431\n",
      "iteration 1100 / 1500: loss 2.027044\n",
      "iteration 1200 / 1500: loss 2.047740\n",
      "iteration 1300 / 1500: loss 1.983141\n",
      "iteration 1400 / 1500: loss 1.997670\n",
      "iteration 0 / 1500: loss 769.987686\n",
      "iteration 100 / 1500: loss 6.863482\n",
      "iteration 200 / 1500: loss 2.158853\n",
      "iteration 300 / 1500: loss 2.083145\n",
      "iteration 400 / 1500: loss 2.128397\n",
      "iteration 500 / 1500: loss 2.030533\n",
      "iteration 600 / 1500: loss 2.067468\n",
      "iteration 700 / 1500: loss 2.072438\n",
      "iteration 800 / 1500: loss 2.106027\n",
      "iteration 900 / 1500: loss 2.073469\n",
      "iteration 1000 / 1500: loss 2.141822\n",
      "iteration 1100 / 1500: loss 2.155291\n",
      "iteration 1200 / 1500: loss 2.057038\n",
      "iteration 1300 / 1500: loss 2.100114\n",
      "iteration 1400 / 1500: loss 2.086203\n",
      "lr 1.000000e-07 reg 2.500000e+04 train accuracy: 0.350490 val accuracy: 0.367000\n",
      "lr 1.000000e-07 reg 5.000000e+04 train accuracy: 0.330429 val accuracy: 0.343000\n",
      "lr 5.000000e-07 reg 2.500000e+04 train accuracy: 0.345388 val accuracy: 0.349000\n",
      "lr 5.000000e-07 reg 5.000000e+04 train accuracy: 0.325918 val accuracy: 0.347000\n",
      "best validation accuracy achieved during cross-validation: 0.367000\n"
     ]
    }
   ],
   "metadata": {
    "tags": [
     "code"
    ]
   }
  },
  {
   "cell_type": "code",
   "execution_count": 8,
   "source": [
    "# evaluate on test set\r\n",
    "# Evaluate the best softmax on test set\r\n",
    "y_test_pred = best_softmax.predict(X_test)\r\n",
    "test_accuracy = np.mean(y_test == y_test_pred)\r\n",
    "print('softmax on raw pixels final test set accuracy: %f' % (test_accuracy, ))"
   ],
   "outputs": [
    {
     "output_type": "stream",
     "name": "stdout",
     "text": [
      "softmax on raw pixels final test set accuracy: 0.357000\n"
     ]
    }
   ],
   "metadata": {}
  },
  {
   "cell_type": "markdown",
   "source": [
    "**Inline Question 2** - *True or False*\r\n",
    "\r\n",
    "Suppose the overall training loss is defined as the sum of the per-datapoint loss over all training examples. It is possible to add a new datapoint to a training set that would leave the SVM loss unchanged, but this is not the case with the Softmax classifier loss.\r\n",
    "\r\n",
    "$\\color{blue}{\\textit Your Answer:}$True\r\n",
    "\r\n",
    "\r\n",
    "$\\color{blue}{\\textit Your Explanation:}$\r\n",
    "SVM损失函数：如果新加入的测试图片分类正确，则loss为0\r\n",
    "softmax：不论分类是否正确，loss总会是存在的，即使loss趋近于0\r\n",
    "\r\n",
    "\r\n"
   ],
   "metadata": {
    "tags": [
     "pdf-inline"
    ]
   }
  },
  {
   "cell_type": "code",
   "execution_count": 9,
   "source": [
    "# Visualize the learned weights for each class\r\n",
    "w = best_softmax.W[:-1,:] # strip out the bias\r\n",
    "w = w.reshape(32, 32, 3, 10)\r\n",
    "\r\n",
    "w_min, w_max = np.min(w), np.max(w)\r\n",
    "\r\n",
    "classes = ['plane', 'car', 'bird', 'cat', 'deer', 'dog', 'frog', 'horse', 'ship', 'truck']\r\n",
    "for i in range(10):\r\n",
    "    plt.subplot(2, 5, i + 1)\r\n",
    "    \r\n",
    "    # Rescale the weights to be between 0 and 255\r\n",
    "    wimg = 255.0 * (w[:, :, :, i].squeeze() - w_min) / (w_max - w_min)\r\n",
    "    plt.imshow(wimg.astype('uint8'))\r\n",
    "    plt.axis('off')\r\n",
    "    plt.title(classes[i])"
   ],
   "outputs": [
    {
     "output_type": "display_data",
     "data": {
      "image/png": "[encoded data removed]",
      "text/plain": [
       "<Figure size 720x576 with 10 Axes>"
      ]
     },
     "metadata": {
      "needs_background": "light"
     }
    }
   ],
   "metadata": {}
  }
 ],
 "metadata": {
  "kernelspec": {
   "name": "python3",
   "display_name": "Python 3.8.8 64-bit ('base': conda)"
  },
  "language_info": {
   "codemirror_mode": {
    "name": "ipython",
    "version": 3
   },
   "file_extension": ".py",
   "mimetype": "text/x-python",
   "name": "python",
   "nbconvert_exporter": "python",
   "pygments_lexer": "ipython3",
   "version": "3.8.8"
  },
  "interpreter": {
   "hash": "62093a62464e5fb0b21768047c60829adff4b3dd5389f25681f89f881f64e856"
  }
 },
 "nbformat": 4,
 "nbformat_minor": 4
}